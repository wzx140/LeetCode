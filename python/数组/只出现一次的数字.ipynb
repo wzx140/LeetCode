{
 "cells": [
  {
   "cell_type": "markdown",
   "metadata": {},
   "source": [
    "# 只出现一次的数字\n",
    "给定一个非空整数数组，除了某个元素只出现一次以外，其余每个元素均出现两次。找出那个只出现了一次的元素。\n",
    "\n",
    "说明：\n",
    "\n",
    "你的算法应该具有线性时间复杂度。 你可以不使用额外空间来实现吗？"
   ]
  },
  {
   "cell_type": "code",
   "execution_count": 1,
   "metadata": {},
   "outputs": [],
   "source": [
    "class Solution:\n",
    "    def singleNumber(self, nums):\n",
    "        \"\"\"\n",
    "        :type nums: List[int]\n",
    "        :rtype: int\n",
    "        \"\"\"\n",
    "        if len(nums) == 1:\n",
    "            return nums[0]\n",
    "        nums_sort = nums.copy()\n",
    "        nums_sort.sort()\n",
    "        # 判断首尾\n",
    "        if nums_sort[0] != nums_sort[1]:\n",
    "            return nums_sort[0]\n",
    "        if nums_sort[-1] != nums_sort[-2]:\n",
    "            return nums_sort[-1]\n",
    "        \n",
    "        i = 2\n",
    "        while i < len(nums_sort) - 2:\n",
    "            if nums_sort[i] == nums_sort[i-1]:\n",
    "                i += 1\n",
    "            elif nums_sort[i] == nums_sort[i+1]:\n",
    "                i += 2\n",
    "            else:\n",
    "                return nums_sort[i]\n",
    "            "
   ]
  },
  {
   "cell_type": "code",
   "execution_count": 3,
   "metadata": {},
   "outputs": [
    {
     "data": {
      "text/plain": [
       "5"
      ]
     },
     "execution_count": 3,
     "metadata": {},
     "output_type": "execute_result"
    }
   ],
   "source": [
    "solution = Solution()\n",
    "solution.singleNumber([1,1,2,2,3,5,4,4])"
   ]
  },
  {
   "cell_type": "markdown",
   "metadata": {},
   "source": [
    "与 *存在重复* 的练习，思想一致，先排序，再判断相邻元素是否重复"
   ]
  }
 ],
 "metadata": {
  "kernelspec": {
   "display_name": "Python 3",
   "language": "python",
   "name": "python3"
  },
  "language_info": {
   "codemirror_mode": {
    "name": "ipython",
    "version": 3
   },
   "file_extension": ".py",
   "mimetype": "text/x-python",
   "name": "python",
   "nbconvert_exporter": "python",
   "pygments_lexer": "ipython3",
   "version": "3.7.1"
  }
 },
 "nbformat": 4,
 "nbformat_minor": 2
}
