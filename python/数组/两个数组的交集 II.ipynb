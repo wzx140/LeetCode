{
 "cells": [
  {
   "cell_type": "markdown",
   "metadata": {},
   "source": [
    "# 两个数组的交集 II\n",
    "给定两个数组，编写一个函数来计算它们的交集。\n",
    "\n",
    "说明：\n",
    "\n",
    "- 输出结果中每个元素出现的次数，应与元素在两个数组中出现的次数一致。\n",
    "- 我们可以不考虑输出结果的顺序。  \n",
    "\n",
    "进阶:\n",
    "\n",
    "- 如果给定的数组已经排好序呢？你将如何优化你的算法？\n",
    "- 如果 nums1 的大小比 nums2 小很多，哪种方法更优？\n",
    "- 如果 nums2 的元素存储在磁盘上，磁盘内存是有限的，并且你不能一次加载所有的元素到内存中，你该怎么办？"
   ]
  },
  {
   "cell_type": "code",
   "execution_count": 1,
   "metadata": {},
   "outputs": [],
   "source": [
    "class Solution1:\n",
    "    def intersect(self, nums1, nums2):\n",
    "        \"\"\"\n",
    "        :type nums1: List[int]\n",
    "        :type nums2: List[int]\n",
    "        :rtype: List[int]\n",
    "        \"\"\"\n",
    "        result = []\n",
    "        nums1_copy = nums1.copy()\n",
    "        nums2_copy = nums2.copy()\n",
    "        for num1 in nums1_copy:\n",
    "            for i,num2 in enumerate(nums2_copy):\n",
    "                if num1 == num2:\n",
    "                    result.append(num1)\n",
    "                    nums2_copy.pop(i)\n",
    "                    break\n",
    "                    \n",
    "        return result"
   ]
  },
  {
   "cell_type": "code",
   "execution_count": 2,
   "metadata": {},
   "outputs": [
    {
     "data": {
      "text/plain": [
       "[4, 9]"
      ]
     },
     "execution_count": 2,
     "metadata": {},
     "output_type": "execute_result"
    }
   ],
   "source": [
    "solution1 = Solution1()\n",
    "solution1.intersect([4,9,5],[9,4,9,8,4])"
   ]
  },
  {
   "cell_type": "markdown",
   "metadata": {},
   "source": [
    "这个想法很简单，嵌套遍历两个数组，将交叉的元素放入结果数组，并在拷贝数组中删除这一元素。**时间复杂度很高**"
   ]
  },
  {
   "cell_type": "code",
   "execution_count": 6,
   "metadata": {},
   "outputs": [],
   "source": [
    "class Solution2:\n",
    "    def intersect(self, nums1, nums2):\n",
    "        \"\"\"\n",
    "        :type nums1: List[int]\n",
    "        :type nums2: List[int]\n",
    "        :rtype: List[int]\n",
    "        \"\"\"\n",
    "        result = []\n",
    "        nums1_copy = nums1.copy()\n",
    "        nums2_copy = nums2.copy()\n",
    "        nums1_copy.sort()\n",
    "        nums2_copy.sort()\n",
    "        nums2_len = len(nums2)\n",
    "        nums2_index = 0\n",
    "        for num1 in nums1_copy:\n",
    "            while nums2_index < nums2_len:\n",
    "                if num1 == nums2_copy[nums2_index]:\n",
    "                    result.append(num1)\n",
    "                    nums2_index += 1\n",
    "                    break;\n",
    "                elif num1 < nums2_copy[nums2_index]:\n",
    "                    break;\n",
    "                else:\n",
    "                    nums2_index += 1\n",
    "                                  \n",
    "        return result"
   ]
  },
  {
   "cell_type": "code",
   "execution_count": 7,
   "metadata": {},
   "outputs": [
    {
     "data": {
      "text/plain": [
       "[4, 9]"
      ]
     },
     "execution_count": 7,
     "metadata": {},
     "output_type": "execute_result"
    }
   ],
   "source": [
    "solution2 = Solution2()\n",
    "solution2.intersect([4,9,5],[9,4,9,8,4])"
   ]
  },
  {
   "cell_type": "markdown",
   "metadata": {},
   "source": [
    "这个想法主要是在排序可以减少循环次数的思想，比上一个方法用的时间少"
   ]
  }
 ],
 "metadata": {
  "kernelspec": {
   "display_name": "Python 3",
   "language": "python",
   "name": "python3"
  },
  "language_info": {
   "codemirror_mode": {
    "name": "ipython",
    "version": 3
   },
   "file_extension": ".py",
   "mimetype": "text/x-python",
   "name": "python",
   "nbconvert_exporter": "python",
   "pygments_lexer": "ipython3",
   "version": "3.7.1"
  }
 },
 "nbformat": 4,
 "nbformat_minor": 2
}
