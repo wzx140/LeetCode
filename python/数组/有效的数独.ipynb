{
 "cells": [
  {
   "cell_type": "markdown",
   "metadata": {},
   "source": [
    "# 有效的数独\n",
    "判断一个 9x9 的数独是否有效。只需要**根据以下规则**，验证已经填入的数字是否有效即可。\n",
    "\n",
    "1. 数字 `1-9` 在每一行只能出现一次。\n",
    "2. 数字 `1-9` 在每一列只能出现一次。\n",
    "3. 数字 `1-9` 在每一个以粗实线分隔的 `3x3` 宫内只能出现一次。\n",
    "\n",
    "![](img/1.png)\n",
    "<center>上图是一个部分填充的有效的数独</center>\n",
    "<center>数独部分空格内已填入了数字，空白格用 '.' 表示</center>\n",
    "\n",
    "说明:\n",
    "- 一个有效的数独（部分已被填充）不一定是可解的。\n",
    "- 只需要根据以上规则，验证已经填入的数字是否有效即可。\n",
    "- 给定数独序列只包含数字 `1-9` 和字符 `'.'` 。\n",
    "- 给定数独永远是 `9x9` 形式的。"
   ]
  },
  {
   "cell_type": "code",
   "execution_count": 1,
   "metadata": {},
   "outputs": [],
   "source": [
    "class Solution1:\n",
    "    def isValidSudoku(self, board):\n",
    "        \"\"\"\n",
    "        :type board: List[List[str]]\n",
    "        :rtype: bool\n",
    "        \"\"\"\n",
    "        # row\n",
    "        for row in board:\n",
    "            temp = [int(item) for item in row if item != '.']\n",
    "            temp.sort()\n",
    "            for index in range(len(temp) - 1):\n",
    "                if temp[index] == temp[index + 1]:\n",
    "                    return False\n",
    "\n",
    "        # column\n",
    "        for i in range(9):\n",
    "            temp = [int(board[j][i]) for j in range(9) if board[j][i] != '.']\n",
    "            temp.sort()\n",
    "            for index in range(len(temp) - 1):\n",
    "                if temp[index] == temp[index + 1]:\n",
    "                    return False\n",
    "\n",
    "        # 3x3\n",
    "        for i in range(3):\n",
    "            for j in range(3):\n",
    "                temp = [int(board[index_i][index_j]) for index_i in range(i * 3, i * 3 + 3) for index_j in\n",
    "                        range(j * 3, j * 3 + 3) if board[index_i][index_j] != '.']\n",
    "                temp.sort()\n",
    "                for index in range(len(temp) - 1):\n",
    "                    if temp[index] == temp[index + 1]:\n",
    "                        return False\n",
    "        return True"
   ]
  },
  {
   "cell_type": "code",
   "execution_count": 2,
   "metadata": {},
   "outputs": [],
   "source": [
    "a = [[\"5\", \"3\", \".\", \".\", \"7\", \".\", \".\", \".\", \".\"],\n",
    "     [\"6\", \".\", \".\", \"1\", \"9\", \"5\", \".\", \".\", \".\"],\n",
    "     [\".\", \"9\", \"8\", \".\", \".\", \".\", \".\", \"6\", \".\"],\n",
    "     [\"8\", \".\", \".\", \".\", \"6\", \".\", \".\", \".\", \"3\"],\n",
    "     [\"4\", \".\", \".\", \"8\", \".\", \"3\", \".\", \".\", \"1\"],\n",
    "     [\"7\", \".\", \".\", \".\", \"2\", \".\", \".\", \".\", \"6\"],\n",
    "     [\".\", \"6\", \".\", \".\", \".\", \".\", \"2\", \"8\", \".\"],\n",
    "     [\".\", \".\", \".\", \"4\", \"1\", \"9\", \".\", \".\", \"5\"],\n",
    "     [\".\", \".\", \".\", \".\", \"8\", \".\", \".\", \"7\", \"9\"]]"
   ]
  },
  {
   "cell_type": "code",
   "execution_count": 3,
   "metadata": {},
   "outputs": [
    {
     "data": {
      "text/plain": [
       "True"
      ]
     },
     "execution_count": 3,
     "metadata": {},
     "output_type": "execute_result"
    }
   ],
   "source": [
    "solution1 = Solution1()\n",
    "solution1.isValidSudoku(a)"
   ]
  },
  {
   "cell_type": "markdown",
   "metadata": {},
   "source": [
    "三次遍历，分别验证三个条件"
   ]
  },
  {
   "cell_type": "code",
   "execution_count": 4,
   "metadata": {},
   "outputs": [],
   "source": [
    "class Solution2:\n",
    "    def isValidSudoku(self, board):\n",
    "        \"\"\"\n",
    "        :type board: List[List[str]]\n",
    "        :rtype: bool\n",
    "        \"\"\"\n",
    "        row = [{} for i in range(9)]\n",
    "        column = [{} for i in range(9)]\n",
    "        box = [{} for i in range(9)]\n",
    "\n",
    "        for i in range(9):\n",
    "            for j in range(9):\n",
    "                num = board[i][j]\n",
    "                if num != '.':\n",
    "                    num = int(num)\n",
    "\n",
    "                    row_temp = row[i]\n",
    "                    column_temp = column[j]\n",
    "                    box_temp = box[i//3 * 3 + j//3]\n",
    "\n",
    "                    row_count = row_temp.get(num, 0) + 1\n",
    "                    column_count = column_temp.get(num, 0) + 1\n",
    "                    box_count = box_temp.get(num, 0) + 1\n",
    "\n",
    "                    if row_count == 2 or column_count == 2 or box_count == 2:\n",
    "                        return False\n",
    "                    else:\n",
    "                        row_temp[num] = row_count\n",
    "                        column_temp[num] = column_count\n",
    "                        box_temp[num] = column_count\n",
    "\n",
    "        return True"
   ]
  },
  {
   "cell_type": "code",
   "execution_count": 5,
   "metadata": {},
   "outputs": [
    {
     "data": {
      "text/plain": [
       "True"
      ]
     },
     "execution_count": 5,
     "metadata": {},
     "output_type": "execute_result"
    }
   ],
   "source": [
    "solution2 = Solution2()\n",
    "solution2.isValidSudoku(a)"
   ]
  },
  {
   "cell_type": "markdown",
   "metadata": {},
   "source": [
    "单词遍历，利用了哈希表"
   ]
  }
 ],
 "metadata": {
  "kernelspec": {
   "display_name": "Python 3",
   "language": "python",
   "name": "python3"
  },
  "language_info": {
   "codemirror_mode": {
    "name": "ipython",
    "version": 3
   },
   "file_extension": ".py",
   "mimetype": "text/x-python",
   "name": "python",
   "nbconvert_exporter": "python",
   "pygments_lexer": "ipython3",
   "version": "3.7.1"
  }
 },
 "nbformat": 4,
 "nbformat_minor": 2
}
