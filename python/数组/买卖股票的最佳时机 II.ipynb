{
 "cells": [
  {
   "cell_type": "markdown",
   "metadata": {},
   "source": [
    "## 买卖股票的最佳时机 II\n",
    "给定一个数组，它的第 i 个元素是一支给定股票第 i 天的价格。\n",
    "\n",
    "设计一个算法来计算你所能获取的最大利润。你可以尽可能地完成更多的交易（多次买卖一支股票）。\n",
    "\n",
    "**注意：你不能同时参与多笔交易（你必须在再次购买前出售掉之前的股票）。**"
   ]
  },
  {
   "cell_type": "code",
   "execution_count": 19,
   "metadata": {},
   "outputs": [],
   "source": [
    "class Solution1:\n",
    "    def maxProfit(self, prices):\n",
    "        \"\"\"\n",
    "        :type prices: List[int]\n",
    "        :rtype: int\n",
    "        \"\"\"\n",
    "        profit = 0\n",
    "        index = 0\n",
    "        length = len(prices)\n",
    "\n",
    "        while index < length - 1:\n",
    "\n",
    "            # 找出当前下降趋势的最后一天\n",
    "            while index < length:\n",
    "                if index == length - 1:\n",
    "                    # 如果下降趋势在最后一天就结束交易\n",
    "                    return profit\n",
    "                elif prices[index] < prices[index + 1]:\n",
    "                    profit -= prices[index]\n",
    "                    index += 1\n",
    "                    break\n",
    "                else:\n",
    "                    index += 1\n",
    "\n",
    "            # 找出当前上升趋势的最后一天\n",
    "            while index < length:\n",
    "                if index == length - 1:\n",
    "                    # 如果上升趋势在最后一天就强制交易\n",
    "                    profit += prices[index]\n",
    "                    return profit\n",
    "                elif prices[index] > prices[index + 1]:\n",
    "                    profit += prices[index]\n",
    "                    index += 1\n",
    "                    break\n",
    "                else:\n",
    "                    index += 1\n",
    "\n",
    "        return profit"
   ]
  },
  {
   "cell_type": "code",
   "execution_count": 20,
   "metadata": {},
   "outputs": [
    {
     "data": {
      "text/plain": [
       "9"
      ]
     },
     "execution_count": 20,
     "metadata": {},
     "output_type": "execute_result"
    }
   ],
   "source": [
    "solution1 = Solution1()\n",
    "solution1.maxProfit([7,1,4,5,5,3,1,5,6,4])"
   ]
  },
  {
   "cell_type": "code",
   "execution_count": 21,
   "metadata": {},
   "outputs": [],
   "source": [
    "class Solution2:\n",
    "    def maxProfit(self, prices):\n",
    "        maxprofit = 0\n",
    "        for i in range(1,len(prices)):\n",
    "            if prices[i] > prices[i - 1]:\n",
    "                maxprofit += prices[i] - prices[i - 1]\n",
    "        \n",
    "        return maxprofit"
   ]
  },
  {
   "cell_type": "code",
   "execution_count": 22,
   "metadata": {},
   "outputs": [
    {
     "data": {
      "text/plain": [
       "9"
      ]
     },
     "execution_count": 22,
     "metadata": {},
     "output_type": "execute_result"
    }
   ],
   "source": [
    "solution2 = Solution2()\n",
    "solution2.maxProfit([7,1,4,5,5,3,1,5,6,4])"
   ]
  },
  {
   "cell_type": "code",
   "execution_count": null,
   "metadata": {},
   "outputs": [],
   "source": []
  }
 ],
 "metadata": {
  "kernelspec": {
   "display_name": "Python 3",
   "language": "python",
   "name": "python3"
  },
  "language_info": {
   "codemirror_mode": {
    "name": "ipython",
    "version": 3
   },
   "file_extension": ".py",
   "mimetype": "text/x-python",
   "name": "python",
   "nbconvert_exporter": "python",
   "pygments_lexer": "ipython3",
   "version": "3.7.1"
  }
 },
 "nbformat": 4,
 "nbformat_minor": 2
}
