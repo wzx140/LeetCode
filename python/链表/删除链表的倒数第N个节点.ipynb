{
 "cells": [
  {
   "cell_type": "markdown",
   "metadata": {},
   "source": [
    "# 删除链表的倒数第N个节点\n",
    "给定一个链表，删除链表的倒数第 n 个节点，并且返回链表的头结点\n",
    "\n",
    "说明：\n",
    "\n",
    "给定的 n 保证是有效的。\n",
    "\n",
    "进阶：\n",
    "\n",
    "你能尝试使用一趟扫描实现吗？"
   ]
  },
  {
   "cell_type": "code",
   "execution_count": 14,
   "metadata": {},
   "outputs": [],
   "source": [
    "# Definition for singly-linked list.\n",
    "class ListNode:\n",
    "    def __init__(self, x):\n",
    "        self.val = x\n",
    "        self.next = None\n",
    "        \n",
    "node1 = ListNode(1)\n",
    "node2 = ListNode(2)\n",
    "node3 = ListNode(3)\n",
    "node4 = ListNode(4)\n",
    "node5 = ListNode(5)\n",
    "\n",
    "node1.next = node2\n",
    "node2.next = node3\n",
    "node3.next = node4\n",
    "node4.next = node5"
   ]
  },
  {
   "cell_type": "code",
   "execution_count": 15,
   "metadata": {},
   "outputs": [],
   "source": [
    "class Solution:\n",
    "    def removeNthFromEnd(self, head: ListNode, n: int) -> ListNode:\n",
    "        last_node = head\n",
    "        for i in range(n-1):\n",
    "            last_node = last_node.next\n",
    "            \n",
    "        if last_node.next == None:\n",
    "            return head.next\n",
    "        else:\n",
    "            pre_delete_node = head\n",
    "            delete_node = head.next\n",
    "            last_node = last_node.next\n",
    "            while last_node.next != None:\n",
    "                pre_delete_node = pre_delete_node.next\n",
    "                delete_node = delete_node.next\n",
    "                last_node = last_node.next\n",
    "            pre_delete_node.next =delete_node.next\n",
    "            return head"
   ]
  },
  {
   "cell_type": "code",
   "execution_count": 16,
   "metadata": {},
   "outputs": [
    {
     "name": "stdout",
     "output_type": "stream",
     "text": [
      "1\n",
      "2\n",
      "3\n",
      "5\n"
     ]
    }
   ],
   "source": [
    "solution = Solution()\n",
    "head = solution.removeNthFromEnd(node1,2)\n",
    "while head != None:\n",
    "    print(head.val)\n",
    "    head = head.next"
   ]
  }
 ],
 "metadata": {
  "kernelspec": {
   "display_name": "Python 3",
   "language": "python",
   "name": "python3"
  },
  "language_info": {
   "codemirror_mode": {
    "name": "ipython",
    "version": 3
   },
   "file_extension": ".py",
   "mimetype": "text/x-python",
   "name": "python",
   "nbconvert_exporter": "python",
   "pygments_lexer": "ipython3",
   "version": "3.7.1"
  }
 },
 "nbformat": 4,
 "nbformat_minor": 2
}
