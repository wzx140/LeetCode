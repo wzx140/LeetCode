{
 "cells": [
  {
   "cell_type": "markdown",
   "metadata": {},
   "source": [
    "# 反转字符串\n",
    "编写一个函数，其作用是将输入的字符串反转过来。输入字符串以字符数组 `char[]` 的形式给出。\n",
    "\n",
    "不要给另外的数组分配额外的空间，你必须**原地修改输入数组**、**使用 O(1) 的额外空间**解决这一问题。\n",
    "\n",
    "你可以假设数组中的所有字符都是 `ASCII` 码表中的可打印字符。"
   ]
  },
  {
   "cell_type": "code",
   "execution_count": 7,
   "metadata": {},
   "outputs": [],
   "source": [
    "class Solution:\n",
    "    def reverseString(self, s):\n",
    "        \"\"\"\n",
    "        :type s: List[str]\n",
    "        :rtype: void Do not return anything, modify s in-place instead.\n",
    "        \"\"\"\n",
    "        length = len(s)\n",
    "        if length <= 1:\n",
    "            return\n",
    "        for i in range(length//2):\n",
    "            j = length-i-1\n",
    "            s[i], s[j] = s[j], s[i]"
   ]
  },
  {
   "cell_type": "code",
   "execution_count": 8,
   "metadata": {},
   "outputs": [
    {
     "data": {
      "text/plain": [
       "['h', 'a', 'n', 'n', 'a', 'H']"
      ]
     },
     "execution_count": 8,
     "metadata": {},
     "output_type": "execute_result"
    }
   ],
   "source": [
    "a = [\"H\",\"a\",\"n\",\"n\",\"a\",\"h\"]\n",
    "solution = Solution()\n",
    "solution.reverseString(a)\n",
    "a"
   ]
  },
  {
   "cell_type": "markdown",
   "metadata": {},
   "source": [
    "最简单的算法，就是遍历一般的元素，首尾交换"
   ]
  }
 ],
 "metadata": {
  "kernelspec": {
   "display_name": "Python 3",
   "language": "python",
   "name": "python3"
  },
  "language_info": {
   "codemirror_mode": {
    "name": "ipython",
    "version": 3
   },
   "file_extension": ".py",
   "mimetype": "text/x-python",
   "name": "python",
   "nbconvert_exporter": "python",
   "pygments_lexer": "ipython3",
   "version": "3.7.1"
  }
 },
 "nbformat": 4,
 "nbformat_minor": 2
}
