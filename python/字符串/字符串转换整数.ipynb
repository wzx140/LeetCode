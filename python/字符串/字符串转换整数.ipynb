{
 "cells": [
  {
   "cell_type": "markdown",
   "metadata": {},
   "source": [
    "# 字符串转换整数\n",
    "请你来实现一个 `atoi` 函数，使其能将字符串转换成整数。\n",
    "\n",
    "首先，该函数会根据需要丢弃无用的开头空格字符，直到寻找到第一个非空格的字符为止。\n",
    "\n",
    "当我们寻找到的第一个非空字符为正或者负号时，则将该符号与之后面尽可能多的连续数字组合起来，作为该整数的正负号；假如第一个非空字符是数字，则直接将其与之后连续的数字字符组合起来，形成整数。\n",
    "\n",
    "该字符串除了有效的整数部分之后也可能会存在多余的字符，这些字符可以被忽略，它们对于函数不应该造成影响。\n",
    "\n",
    "注意：假如该字符串中的第一个非空格字符不是一个有效整数字符、字符串为空或字符串仅包含空白字符时，则你的函数不需要进行转换。\n",
    "\n",
    "在任何情况下，若函数不能进行有效的转换时，请返回 0。"
   ]
  },
  {
   "cell_type": "code",
   "execution_count": 1,
   "metadata": {},
   "outputs": [],
   "source": [
    "class Solution1:\n",
    "    def myAtoi(self, str: str) -> int:\n",
    "        if str == '':\n",
    "            return 0\n",
    "\n",
    "        str_list = list(str.lstrip())\n",
    "\n",
    "        if len(str_list) == 0:\n",
    "            return 0\n",
    "        num = 0\n",
    "        flag = False\n",
    "        if str_list[0].isnumeric():\n",
    "            num += int(str_list[0])\n",
    "        elif str_list[0] == '-':\n",
    "            flag = True\n",
    "        elif str_list[0] == '+':\n",
    "            flag = False\n",
    "        else:\n",
    "            return 0\n",
    "        for char in str_list[1:]:\n",
    "            if char.isnumeric():\n",
    "                num = num * 10 + int(char)\n",
    "            else:\n",
    "                break\n",
    "        if flag:\n",
    "            num = -num\n",
    "\n",
    "        if -2 ** 31 <= num <= 2 ** 31 - 1:\n",
    "            return num\n",
    "        elif -2 ** 31 > num:\n",
    "            return -2 ** 31\n",
    "        elif 2 ** 31 - 1 < num:\n",
    "            return 2 ** 31 - 1"
   ]
  },
  {
   "cell_type": "code",
   "execution_count": 3,
   "metadata": {},
   "outputs": [
    {
     "name": "stdout",
     "output_type": "stream",
     "text": [
      "41\n"
     ]
    }
   ],
   "source": [
    "solution1 = Solution1()\n",
    "print(solution1.myAtoi('   +41 2'))"
   ]
  },
  {
   "cell_type": "markdown",
   "metadata": {},
   "source": [
    "首先利用Python的内置函数去除左边的空格，再通过遍历，考虑题目要求的情况"
   ]
  },
  {
   "cell_type": "code",
   "execution_count": 4,
   "metadata": {},
   "outputs": [],
   "source": [
    "class Solution2:\n",
    "    def myAtoi(self, str: str) -> int:\n",
    "        if str == '':\n",
    "            return 0\n",
    "        str_list = list(str)\n",
    "        length = len(str_list)\n",
    "\n",
    "        # 第一个非零索引\n",
    "        index = 0\n",
    "        while index < length and str_list[index] == ' ':\n",
    "            index += 1\n",
    "\n",
    "        if index == length:\n",
    "            return 0\n",
    "\n",
    "        num = 0\n",
    "        sign = 1\n",
    "        if str_list[index].isnumeric():\n",
    "            num += int(str_list[index])\n",
    "        elif str_list[index] == '-':\n",
    "            sign = -1\n",
    "        elif str_list[index] == '+':\n",
    "            sign = 1\n",
    "        else:\n",
    "            return 0\n",
    "        index += 1\n",
    "\n",
    "        while index < length and str_list[index].isnumeric():\n",
    "            num = num * 10 + int(str_list[index])\n",
    "            if sign == 1 and num >= 2 ** 31 - 1:\n",
    "                return 2 ** 31 - 1\n",
    "            elif sign == -1 and num >= 2 ** 31:\n",
    "                return -2 ** 31\n",
    "            index += 1\n",
    "\n",
    "        return num * sign"
   ]
  },
  {
   "cell_type": "code",
   "execution_count": 5,
   "metadata": {},
   "outputs": [
    {
     "name": "stdout",
     "output_type": "stream",
     "text": [
      "41\n"
     ]
    }
   ],
   "source": [
    "solution2 = Solution2()\n",
    "print(solution2.myAtoi('   +41 2'))"
   ]
  },
  {
   "cell_type": "markdown",
   "metadata": {},
   "source": [
    "减少创建新的数组，并且把溢出判断放在循环内，为了应付提前退出循环的情况"
   ]
  }
 ],
 "metadata": {
  "kernelspec": {
   "display_name": "Python 3",
   "language": "python",
   "name": "python3"
  },
  "language_info": {
   "codemirror_mode": {
    "name": "ipython",
    "version": 3
   },
   "file_extension": ".py",
   "mimetype": "text/x-python",
   "name": "python",
   "nbconvert_exporter": "python",
   "pygments_lexer": "ipython3",
   "version": "3.7.1"
  }
 },
 "nbformat": 4,
 "nbformat_minor": 2
}
