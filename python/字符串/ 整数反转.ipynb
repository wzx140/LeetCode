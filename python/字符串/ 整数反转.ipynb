{
 "cells": [
  {
   "cell_type": "markdown",
   "metadata": {},
   "source": [
    "# 整数反转\n",
    "给出一个 32 位的有符号整数，你需要将这个整数中每位上的数字进行反转。\n",
    "\n",
    "注意:\n",
    "\n",
    "假设我们的环境只能存储得下 32 位的有符号整数，则其数值范围为 `[−231,  231 − 1]`。请根据这个假设，如果反转后整数溢出那么就返回 0。"
   ]
  },
  {
   "cell_type": "code",
   "execution_count": 1,
   "metadata": {},
   "outputs": [],
   "source": [
    "class Solution:\n",
    "    def reverse(self, x):\n",
    "        \"\"\"\n",
    "        :type x: int\n",
    "        :rtype: int\n",
    "        \"\"\"\n",
    "        result = 0\n",
    "\n",
    "        if x >= 10:\n",
    "            while x != 0:\n",
    "                result = result * 10 + x % 10\n",
    "                x = x // 10\n",
    "        elif x <= -10:\n",
    "            while x != 0:\n",
    "                result = result * 10 + x % -10\n",
    "                x = int(x / 10)\n",
    "        else:\n",
    "            result = x\n",
    "\n",
    "        if -2 ** 31 <= result <= 2 ** 31 - 1:\n",
    "            return result\n",
    "        else:\n",
    "            return 0"
   ]
  },
  {
   "cell_type": "code",
   "execution_count": 3,
   "metadata": {},
   "outputs": [
    {
     "data": {
      "text/plain": [
       "-4321"
      ]
     },
     "execution_count": 3,
     "metadata": {},
     "output_type": "execute_result"
    }
   ],
   "source": [
    "solution = Solution()\n",
    "solution.reverse(-1234)"
   ]
  },
  {
   "cell_type": "markdown",
   "metadata": {},
   "source": [
    "注意**负数取模**和**负数//10的取整**问题"
   ]
  }
 ],
 "metadata": {
  "kernelspec": {
   "display_name": "Python 3",
   "language": "python",
   "name": "python3"
  },
  "language_info": {
   "codemirror_mode": {
    "name": "ipython",
    "version": 3
   },
   "file_extension": ".py",
   "mimetype": "text/x-python",
   "name": "python",
   "nbconvert_exporter": "python",
   "pygments_lexer": "ipython3",
   "version": "3.7.1"
  }
 },
 "nbformat": 4,
 "nbformat_minor": 2
}
