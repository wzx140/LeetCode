{
 "cells": [
  {
   "cell_type": "markdown",
   "metadata": {},
   "source": [
    "# 报数\n",
    "报数序列是一个整数序列，按照其中的整数的顺序进行报数，得到下一个数。其前五项如下：\n",
    "```\n",
    "1.     1\n",
    "2.     11\n",
    "3.     21\n",
    "4.     1211\n",
    "5.     111221\n",
    "```\n",
    "`1` 被读作  `\"one 1\"  (\"一个一\")` , 即 `11`。\n",
    "\n",
    "`11` 被读作 `\"two 1s\" (\"两个一\"）`, 即 `21`。\n",
    "\n",
    "`21` 被读作 `\"one 2\",  \"one 1\" （\"一个二\" ,  \"一个一\")` , 即 `1211`。\n",
    "\n",
    "给定一个正整数 `n（1 ≤ n ≤ 30）`，输出报数序列的第 `n` 项。\n",
    "\n",
    "注意：整数顺序将表示为一个字符串。"
   ]
  },
  {
   "cell_type": "code",
   "execution_count": 3,
   "metadata": {},
   "outputs": [],
   "source": [
    "class Solution:\n",
    "    def countAndSay(self, n: int) -> str:\n",
    "        if n==1:\n",
    "            return '1'\n",
    "        if n==2:\n",
    "            return '11'\n",
    "        num = '11'\n",
    "        for i in range(n - 2):\n",
    "            num = self.report_number(num)\n",
    "        return num\n",
    "\n",
    "    def report_number(self, pre_num: str):\n",
    "        num = []\n",
    "        dup = 1\n",
    "        for i in range(len(pre_num) - 1):\n",
    "            if pre_num[i] != pre_num[i + 1]:\n",
    "                num.append(str(dup))\n",
    "                num.append(pre_num[i])\n",
    "                dup = 1\n",
    "            else:\n",
    "                dup += 1\n",
    "        num.append(str(dup))\n",
    "        num.append(pre_num[i+1])\n",
    "        return ''.join(num)"
   ]
  },
  {
   "cell_type": "code",
   "execution_count": 4,
   "metadata": {},
   "outputs": [
    {
     "name": "stdout",
     "output_type": "stream",
     "text": [
      "111221\n"
     ]
    }
   ],
   "source": [
    "solution = Solution()\n",
    "print(solution.countAndSay(5))"
   ]
  }
 ],
 "metadata": {
  "kernelspec": {
   "display_name": "Python 3",
   "language": "python",
   "name": "python3"
  },
  "language_info": {
   "codemirror_mode": {
    "name": "ipython",
    "version": 3
   },
   "file_extension": ".py",
   "mimetype": "text/x-python",
   "name": "python",
   "nbconvert_exporter": "python",
   "pygments_lexer": "ipython3",
   "version": "3.7.1"
  }
 },
 "nbformat": 4,
 "nbformat_minor": 2
}
