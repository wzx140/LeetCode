{
 "cells": [
  {
   "cell_type": "markdown",
   "metadata": {},
   "source": [
    "# 验证二叉搜索树\n",
    "给定一个二叉树，判断其是否是一个有效的二叉搜索树。\n",
    "\n",
    "假设一个二叉搜索树具有如下特征：\n",
    "\n",
    "- 节点的左子树只包含小于当前节点的数。\n",
    "- 节点的右子树只包含大于当前节点的数。\n",
    "- 所有左子树和右子树自身必须也是二叉搜索树"
   ]
  },
  {
   "cell_type": "code",
   "execution_count": 8,
   "metadata": {},
   "outputs": [],
   "source": [
    "# Definition for a binary tree node.\n",
    "class TreeNode(object):\n",
    "    def __init__(self, x):\n",
    "        self.val = x\n",
    "        self.left = None\n",
    "        self.right = None\n",
    "treeNode1 = TreeNode(5)\n",
    "treeNode2 = TreeNode(1)\n",
    "treeNode3 = TreeNode(4)\n",
    "treeNode4 = TreeNode(3)\n",
    "treeNode5 = TreeNode(6)\n",
    "treeNode1.left =treeNode2\n",
    "treeNode1.right = treeNode3\n",
    "treeNode3.left = treeNode4\n",
    "treeNode3.right = treeNode5\n",
    "root = treeNode1"
   ]
  },
  {
   "cell_type": "markdown",
   "metadata": {},
   "source": [
    "```\n",
    "    5\n",
    "   / \\\n",
    "  1   4\n",
    "     / \\\n",
    "    3   6\n",
    "```"
   ]
  },
  {
   "cell_type": "code",
   "execution_count": 2,
   "metadata": {},
   "outputs": [],
   "source": [
    "class Solution1(object):\n",
    "    def isValidBST(self, root):\n",
    "        \"\"\"\n",
    "        :type root: TreeNode\n",
    "        :rtype: bool\n",
    "        \"\"\"\n",
    "        if root is None:\n",
    "            return True\n",
    "        return self.is_greater(root.right, root.val) and self.is_less(root.left, root.val) and self.isValidBST(root.right) and self.isValidBST(root.left)\n",
    "    \n",
    "    def is_greater(self, root, val):\n",
    "        if root is None:\n",
    "            return True\n",
    "        if root.val > val and self.is_greater(root.left, val) and self.is_greater(root.right, val):\n",
    "            return True\n",
    "        else:\n",
    "            return False\n",
    "    \n",
    "    def is_less(self, root, val):\n",
    "        if root is None:\n",
    "            return True\n",
    "        if root.val < val and self.is_less(root.left, val) and self.is_less(root.right, val):\n",
    "            return True\n",
    "        else:\n",
    "            return False"
   ]
  },
  {
   "cell_type": "code",
   "execution_count": 3,
   "metadata": {},
   "outputs": [
    {
     "name": "stdout",
     "output_type": "stream",
     "text": [
      "False\n"
     ]
    }
   ],
   "source": [
    "solution1 = Solution1()\n",
    "print(solution1.isValidBST(root))"
   ]
  },
  {
   "cell_type": "code",
   "execution_count": 6,
   "metadata": {},
   "outputs": [],
   "source": [
    "class Solution2(object):\n",
    "    def isValidBST(self, root):\n",
    "        \"\"\"\n",
    "        :type root: TreeNode\n",
    "        :rtype: bool\n",
    "        \"\"\"\n",
    "        if root is None:\n",
    "            return True\n",
    "        return self.is_BST_node(root, float('inf'), float('-inf'))\n",
    "    \n",
    "    def is_BST_node(self, node, max, min):\n",
    "        if node is None:\n",
    "            return True\n",
    "        if min < node.val < max and self.is_BST_node(node.left, node.val, min) and self.is_BST_node(node.right, max, node.val):\n",
    "            return True\n",
    "        else:\n",
    "            return False"
   ]
  },
  {
   "cell_type": "code",
   "execution_count": 10,
   "metadata": {},
   "outputs": [
    {
     "name": "stdout",
     "output_type": "stream",
     "text": [
      "False\n"
     ]
    }
   ],
   "source": [
    "solution2 = Solution2()\n",
    "print(solution2.isValidBST(root))"
   ]
  },
  {
   "cell_type": "code",
   "execution_count": 11,
   "metadata": {},
   "outputs": [],
   "source": [
    "class Solution3(object):\n",
    "    def isValidBST(self, root):\n",
    "        \"\"\"\n",
    "        :type root: TreeNode\n",
    "        :rtype: bool\n",
    "        \"\"\"\n",
    "        if root is None:\n",
    "            return True\n",
    "        self.Node_list = []\n",
    "        self.BST_node(root)\n",
    "        for i in range(len(self.Node_list)-1):\n",
    "            if self.Node_list[i] >= self.Node_list[i+1]:\n",
    "                return False\n",
    "        return True\n",
    "    \n",
    "    def BST_node(self, node):\n",
    "        if node is None:\n",
    "            return\n",
    "        self.BST_node(node.left)\n",
    "        self.Node_list.append(node.val)\n",
    "        self.BST_node(node.right)"
   ]
  },
  {
   "cell_type": "code",
   "execution_count": 12,
   "metadata": {},
   "outputs": [
    {
     "name": "stdout",
     "output_type": "stream",
     "text": [
      "False\n"
     ]
    }
   ],
   "source": [
    "solution3 = Solution3()\n",
    "print(solution3.isValidBST(root))"
   ]
  },
  {
   "cell_type": "markdown",
   "metadata": {},
   "source": [
    "因为一棵二叉搜索树的中序遍历后其结点值是从小到大排好序的，先中序遍历二叉树至list，在顺序比较。空间复杂度较高"
   ]
  },
  {
   "cell_type": "markdown",
   "metadata": {},
   "source": [
    "上面的解法还可以利用堆栈实现迭代法"
   ]
  }
 ],
 "metadata": {
  "kernelspec": {
   "display_name": "Python 3",
   "language": "python",
   "name": "python3"
  },
  "language_info": {
   "codemirror_mode": {
    "name": "ipython",
    "version": 3
   },
   "file_extension": ".py",
   "mimetype": "text/x-python",
   "name": "python",
   "nbconvert_exporter": "python",
   "pygments_lexer": "ipython3",
   "version": "3.7.1"
  }
 },
 "nbformat": 4,
 "nbformat_minor": 2
}
