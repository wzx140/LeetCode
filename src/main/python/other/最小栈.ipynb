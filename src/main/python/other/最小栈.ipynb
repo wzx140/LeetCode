{
 "cells": [
  {
   "cell_type": "markdown",
   "metadata": {},
   "source": [
    "# 最小栈\n",
    "设计一个支持 push，pop，top 操作，并能在常数时间内检索到最小元素的栈。\n",
    "\n",
    "- `push(x)` -- 将元素 x 推入栈中。\n",
    "- `pop()` -- 删除栈顶的元素。\n",
    "- `top()` -- 获取栈顶元素。\n",
    "- `getMin()` -- 检索栈中的最小元素。"
   ]
  },
  {
   "cell_type": "code",
   "execution_count": 6,
   "metadata": {},
   "outputs": [],
   "source": [
    "class MinStack1:\n",
    "\n",
    "    def __init__(self):\n",
    "        \"\"\"\n",
    "        initialize your data structure here.\n",
    "        \"\"\"\n",
    "        self.stack = []\n",
    "        self.order_stack = []\n",
    "        \n",
    "\n",
    "    def push(self, x: int) -> None:\n",
    "        self.stack.append(x)\n",
    "#         按顺序插入\n",
    "        if not self.order_stack:\n",
    "            self.order_stack.append(x)\n",
    "        else:\n",
    "            if x >= self.order_stack[-1]:\n",
    "                self.order_stack.append(x)\n",
    "            elif x <= self.order_stack[0]:\n",
    "                self.order_stack.insert(0, x)\n",
    "            else:\n",
    "                for i in range(len(self.order_stack)-1):\n",
    "                    if self.order_stack[i] <= x <= self.order_stack[i+1]:\n",
    "                        self.order_stack.insert(i+1, x)\n",
    "\n",
    "    def pop(self) -> None:\n",
    "        x = self.stack[-1]\n",
    "        del self.stack[-1]\n",
    "        for i in range(len(self.order_stack)):\n",
    "            if x == self.order_stack[i]:\n",
    "                del self.order_stack[i]\n",
    "                break\n",
    "\n",
    "    def top(self) -> int:\n",
    "        x = self.stack[-1]\n",
    "        return x\n",
    "\n",
    "    def getMin(self) -> int:\n",
    "        if self.order_stack:\n",
    "            return self.order_stack[0]"
   ]
  },
  {
   "cell_type": "code",
   "execution_count": 8,
   "metadata": {},
   "outputs": [
    {
     "name": "stdout",
     "output_type": "stream",
     "text": [
      "-3\n",
      "0\n",
      "-2\n"
     ]
    }
   ],
   "source": [
    "min_stack1 =  MinStack1()\n",
    "min_stack1.push(-2)\n",
    "min_stack1.push(0)\n",
    "min_stack1.push(-3)\n",
    "print(min_stack1.getMin()) # --> 返回 -3.\n",
    "min_stack1.pop()\n",
    "print(min_stack1.top())     # --> 返回 0.\n",
    "print(min_stack1.getMin())   # --> 返回 -2."
   ]
  },
  {
   "cell_type": "markdown",
   "metadata": {},
   "source": [
    "利用另一个数组来保存栈中的元素的顺序排列，可以实现最小栈的O(1)时间复杂度，但插入和删除操作的时间复杂度都为O(n)。在力扣中超时"
   ]
  },
  {
   "cell_type": "code",
   "execution_count": 11,
   "metadata": {},
   "outputs": [],
   "source": [
    "class MinStack2:\n",
    "\n",
    "    def __init__(self):\n",
    "        \"\"\"\n",
    "        initialize your data structure here.\n",
    "        \"\"\"\n",
    "        self.stack = []\n",
    "        self.min_stack = []\n",
    "        \n",
    "\n",
    "    def push(self, x: int) -> None:\n",
    "        self.stack.append(x)\n",
    "        if not self.min_stack or self.min_stack[-1] >= x:\n",
    "            self.min_stack.append(x)\n",
    "\n",
    "    def pop(self) -> None:\n",
    "        x = self.stack.pop()\n",
    "        if x == self.min_stack[-1]:\n",
    "            del self.min_stack[-1]\n",
    "\n",
    "    def top(self) -> int:\n",
    "        return self.stack[-1]\n",
    "\n",
    "    def getMin(self) -> int:\n",
    "        if self.min_stack:\n",
    "            return self.min_stack[-1]"
   ]
  },
  {
   "cell_type": "code",
   "execution_count": 12,
   "metadata": {},
   "outputs": [
    {
     "name": "stdout",
     "output_type": "stream",
     "text": [
      "-3\n",
      "0\n",
      "-2\n"
     ]
    }
   ],
   "source": [
    "min_stack2 =  MinStack2()\n",
    "min_stack2.push(-2)\n",
    "min_stack2.push(0)\n",
    "min_stack2.push(-3)\n",
    "print(min_stack2.getMin()) # --> 返回 -3.\n",
    "min_stack2.pop()\n",
    "print(min_stack2.top())     # --> 返回 0.\n",
    "print(min_stack2.getMin())   # --> 返回 -2."
   ]
  },
  {
   "cell_type": "markdown",
   "metadata": {},
   "source": [
    "利用栈先进先出的特性，每次出栈并不一定会改变栈的最小值，所以用有序数组来保存栈中的元素是多余的。可以使用另一个栈来保存最小值。"
   ]
  },
  {
   "cell_type": "code",
   "execution_count": 13,
   "metadata": {},
   "outputs": [],
   "source": [
    "class MinStack3:\n",
    "\n",
    "    def __init__(self):\n",
    "        \"\"\"\n",
    "        initialize your data structure here.\n",
    "        \"\"\"\n",
    "        self.stack = []\n",
    "        \n",
    "    def push(self, x: int) -> None:\n",
    "        if not self.stack:\n",
    "            self.stack.append(x)\n",
    "            self.stack.append(x)\n",
    "        else:\n",
    "            min_value = self.stack[-1]\n",
    "            self.stack.append(x)\n",
    "            if x < min_value:\n",
    "                self.stack.append(x)\n",
    "            else:\n",
    "                self.stack.append(min_value)\n",
    "\n",
    "    def pop(self) -> None:\n",
    "        del self.stack[-1]\n",
    "        del self.stack[-1]\n",
    "\n",
    "    def top(self) -> int:\n",
    "        return self.stack[-2]\n",
    "\n",
    "    def getMin(self) -> int:\n",
    "        if self.stack:\n",
    "            return self.stack[-1]"
   ]
  },
  {
   "cell_type": "code",
   "execution_count": 14,
   "metadata": {},
   "outputs": [
    {
     "name": "stdout",
     "output_type": "stream",
     "text": [
      "-3\n",
      "0\n",
      "-2\n"
     ]
    }
   ],
   "source": [
    "min_stack3 =  MinStack2()\n",
    "min_stack3.push(-2)\n",
    "min_stack3.push(0)\n",
    "min_stack3.push(-3)\n",
    "print(min_stack3.getMin()) # --> 返回 -3.\n",
    "min_stack3.pop()\n",
    "print(min_stack3.top())     # --> 返回 0.\n",
    "print(min_stack3.getMin())   # --> 返回 -2."
   ]
  },
  {
   "cell_type": "markdown",
   "metadata": {},
   "source": [
    "每次将最小值和元素都压入栈中"
   ]
  }
 ],
 "metadata": {
  "kernelspec": {
   "display_name": "Python 3",
   "language": "python",
   "name": "python3"
  },
  "language_info": {
   "codemirror_mode": {
    "name": "ipython",
    "version": 3
   },
   "file_extension": ".py",
   "mimetype": "text/x-python",
   "name": "python",
   "nbconvert_exporter": "python",
   "pygments_lexer": "ipython3",
   "version": "3.7.1"
  }
 },
 "nbformat": 4,
 "nbformat_minor": 2
}
