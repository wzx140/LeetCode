{
 "cells": [
  {
   "cell_type": "markdown",
   "metadata": {},
   "source": [
    "# 最大子序和\n",
    "给定一个整数数组 nums ，找到一个具有最大和的连续子数组（子数组最少包含一个元素），返回其最大和。\n",
    "\n",
    "示例:\n",
    "```\n",
    "输入: [-2,1,-3,4,-1,2,1,-5,4],\n",
    "输出: 6\n",
    "解释: 连续子数组 [4,-1,2,1] 的和最大，为 6。\n",
    "```\n",
    "**进阶**:\n",
    "\n",
    "如果你已经实现复杂度为 O(n) 的解法，尝试使用更为精妙的分治法求解。"
   ]
  },
  {
   "cell_type": "code",
   "execution_count": 5,
   "metadata": {},
   "outputs": [],
   "source": [
    "class Solution1:\n",
    "    def maxSubArray(self, nums) -> int:\n",
    "        if not nums or nums is None:\n",
    "            return 0\n",
    "        if max(nums) <= 0:\n",
    "            return max(nums)\n",
    "        max_sum = 0\n",
    "        length = len(nums)\n",
    "        for i in range(length):\n",
    "            if nums[i] > 0:\n",
    "                sum = 0\n",
    "                for j in range(i, length):\n",
    "                    sum += nums[j]\n",
    "                    if nums[j] > 0 and max_sum < sum:\n",
    "                        max_sum = sum\n",
    "        return max_sum"
   ]
  },
  {
   "cell_type": "code",
   "execution_count": 7,
   "metadata": {},
   "outputs": [
    {
     "name": "stdout",
     "output_type": "stream",
     "text": [
      "6\n"
     ]
    }
   ],
   "source": [
    "solution1 = Solution1()\n",
    "print(solution1.maxSubArray([-2,1,-3,4,-1,2,1,-5,4]))"
   ]
  },
  {
   "cell_type": "markdown",
   "metadata": {},
   "source": [
    "考虑所有情况，除了以负数开头和以负数结尾的子数组，但很不幸，超时"
   ]
  },
  {
   "cell_type": "code",
   "execution_count": 9,
   "metadata": {},
   "outputs": [],
   "source": [
    "class Solution2:\n",
    "    def maxSubArray(self, nums) -> int:\n",
    "        if not nums or nums is None:\n",
    "            return 0\n",
    "        result = nums[:]\n",
    "        max_sum = nums[0]\n",
    "        for i in range(1, len(nums)):\n",
    "            if result[i - 1] > 0:\n",
    "                result[i] += result[i - 1]\n",
    "            if max_sum < result[i]:\n",
    "                max_sum = result[i]\n",
    "        return max_sum"
   ]
  },
  {
   "cell_type": "code",
   "execution_count": 10,
   "metadata": {},
   "outputs": [
    {
     "name": "stdout",
     "output_type": "stream",
     "text": [
      "6\n"
     ]
    }
   ],
   "source": [
    "solution2 = Solution2()\n",
    "print(solution2.maxSubArray([-2,1,-3,4,-1,2,1,-5,4]))"
   ]
  },
  {
   "cell_type": "markdown",
   "metadata": {},
   "source": [
    "动态规划思想。用result[i]保存以数字nums[i]结尾的最大子序和，然后不断更新result数组的最大值，除去了方法一中重复计算的过程"
   ]
  },
  {
   "cell_type": "markdown",
   "metadata": {},
   "source": [
    "[分治法](https://blog.csdn.net/Jaster_wisdom/article/details/80662037)"
   ]
  }
 ],
 "metadata": {
  "kernelspec": {
   "display_name": "Python 3",
   "language": "python",
   "name": "python3"
  },
  "language_info": {
   "codemirror_mode": {
    "name": "ipython",
    "version": 3
   },
   "file_extension": ".py",
   "mimetype": "text/x-python",
   "name": "python",
   "nbconvert_exporter": "python",
   "pygments_lexer": "ipython3",
   "version": "3.7.1"
  }
 },
 "nbformat": 4,
 "nbformat_minor": 2
}
