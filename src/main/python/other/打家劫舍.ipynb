{
 "cells": [
  {
   "cell_type": "markdown",
   "metadata": {},
   "source": [
    "# 打家劫舍\n",
    "你是一个专业的小偷，计划偷窃沿街的房屋。每间房内都藏有一定的现金，影响你偷窃的唯一制约因素就是相邻的房屋装有相互连通的防盗系统，**如果两间相邻的房屋在同一晚上被小偷闯入，系统会自动报警。**\n",
    "\n",
    "给定一个代表每个房屋存放金额的非负整数数组，计算你**在不触动警报装置的情况下**，能够偷窃到的最高金额。\n",
    "\n",
    "示例 1:\n",
    "```\n",
    "输入: [1,2,3,1]\n",
    "输出: 4\n",
    "解释: 偷窃 1 号房屋 (金额 = 1) ，然后偷窃 3 号房屋 (金额 = 3)。\n",
    "     偷窃到的最高金额 = 1 + 3 = 4 。\n",
    "     ```"
   ]
  },
  {
   "cell_type": "code",
   "execution_count": 1,
   "metadata": {},
   "outputs": [],
   "source": [
    "class Solution1:\n",
    "    def rob(self, nums) -> int:\n",
    "        if not nums or nums is None:\n",
    "            return 0\n",
    "        last_rob = nums[0]\n",
    "        last_not_rob = 0\n",
    "        for i in range(1, len(nums)):\n",
    "            cur_rob = last_not_rob + nums[i]\n",
    "            cur_not_rob = max(last_not_rob, last_rob)\n",
    "            last_rob = cur_rob\n",
    "            last_not_rob = cur_not_rob\n",
    "        return max(last_rob, last_not_rob)"
   ]
  },
  {
   "cell_type": "code",
   "execution_count": 2,
   "metadata": {},
   "outputs": [
    {
     "name": "stdout",
     "output_type": "stream",
     "text": [
      "12\n"
     ]
    }
   ],
   "source": [
    "solution1 = Solution1()\n",
    "print(solution1.rob([2,7,9,3,1]))"
   ]
  },
  {
   "cell_type": "markdown",
   "metadata": {},
   "source": [
    "动态规划的思想，保存上一次偷与不偷的结果"
   ]
  },
  {
   "cell_type": "code",
   "execution_count": 3,
   "metadata": {},
   "outputs": [],
   "source": [
    "class Solution2:\n",
    "    def rob(self, nums) -> int:\n",
    "        if not nums:\n",
    "            return 0\n",
    "#     上上一次最优\n",
    "        last_last = 0\n",
    "#     上一次最优\n",
    "        last = 0\n",
    "        for money in nums:\n",
    "            now = max(last_last+money, last)\n",
    "            last_last = last\n",
    "            last = now\n",
    "        return now"
   ]
  },
  {
   "cell_type": "code",
   "execution_count": 4,
   "metadata": {},
   "outputs": [
    {
     "name": "stdout",
     "output_type": "stream",
     "text": [
      "12\n"
     ]
    }
   ],
   "source": [
    "solution2 = Solution2()\n",
    "print(solution2.rob([2,7,9,3,1]))"
   ]
  },
  {
   "cell_type": "markdown",
   "metadata": {},
   "source": [
    "保存上次和上上次的结果，其实本质上和上一种方法差不多"
   ]
  }
 ],
 "metadata": {
  "kernelspec": {
   "display_name": "Python 3",
   "language": "python",
   "name": "python3"
  },
  "language_info": {
   "codemirror_mode": {
    "name": "ipython",
    "version": 3
   },
   "file_extension": ".py",
   "mimetype": "text/x-python",
   "name": "python",
   "nbconvert_exporter": "python",
   "pygments_lexer": "ipython3",
   "version": "3.7.1"
  }
 },
 "nbformat": 4,
 "nbformat_minor": 2
}
