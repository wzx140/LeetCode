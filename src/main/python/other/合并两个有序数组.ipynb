{
 "cells": [
  {
   "cell_type": "markdown",
   "metadata": {},
   "source": [
    "# 合并两个有序数组\n",
    "给定两个有序整数数组 nums1 和 nums2，将 nums2 合并**原地**到 nums1 中，使得 num1 成为一个有序数组。\n",
    "\n",
    "说明:\n",
    "\n",
    "- 初始化 nums1 和 nums2 的元素数量分别为 m 和 n。\n",
    "- 你可以假设 nums1 有足够的空间（空间大小大于或等于 m + n）来保存 nums2 中的元素。"
   ]
  },
  {
   "cell_type": "code",
   "execution_count": 2,
   "metadata": {},
   "outputs": [],
   "source": [
    "class Solution:\n",
    "    def merge(self, nums1, m: int, nums2, n: int) -> None:\n",
    "        \"\"\"\n",
    "        Do not return anything, modify nums1 in-place instead.\n",
    "        \"\"\"\n",
    "        cur = m + n - 1\n",
    "        m -= 1\n",
    "        n -= 1\n",
    "        while m >= 0 and n >= 0:\n",
    "            if nums1[m] > nums2[n]:\n",
    "                nums1[cur] = nums1[m]\n",
    "                m -= 1\n",
    "                cur -= 1\n",
    "            else:\n",
    "                nums1[cur] = nums2[n]\n",
    "                n -= 1\n",
    "                cur -= 1\n",
    "        while n >= 0:\n",
    "            nums1[cur] = nums2[n]\n",
    "            n -= 1\n",
    "            cur -= 1"
   ]
  },
  {
   "cell_type": "code",
   "execution_count": 3,
   "metadata": {},
   "outputs": [
    {
     "name": "stdout",
     "output_type": "stream",
     "text": [
      "[1, 2, 2, 3, 4, 5]\n"
     ]
    }
   ],
   "source": [
    "solution = Solution()\n",
    "nums1 = [1, 2, 3, 0, 0, 0]\n",
    "solution.merge(nums1, 3, [2, 4, 5], 3)\n",
    "print(nums1)"
   ]
  },
  {
   "cell_type": "markdown",
   "metadata": {},
   "source": [
    "一开始还想用，通过迭代比较，找出nums2中的元素在nums1中的插入点，再通过后移nums1中的元素插入，发现这样想比较复杂，上面的算法还是比较简洁的。"
   ]
  }
 ],
 "metadata": {
  "kernelspec": {
   "display_name": "Python 3",
   "language": "python",
   "name": "python3"
  },
  "language_info": {
   "codemirror_mode": {
    "name": "ipython",
    "version": 3
   },
   "file_extension": ".py",
   "mimetype": "text/x-python",
   "name": "python",
   "nbconvert_exporter": "python",
   "pygments_lexer": "ipython3",
   "version": "3.7.1"
  }
 },
 "nbformat": 4,
 "nbformat_minor": 2
}
