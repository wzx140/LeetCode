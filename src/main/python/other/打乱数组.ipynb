{
 "cells": [
  {
   "cell_type": "markdown",
   "metadata": {},
   "source": [
    "# 打乱数组\n",
    "打乱一个没有重复元素的数组。\n",
    "\n",
    "示例:\n",
    "```\n",
    "// 以数字集合 1, 2 和 3 初始化数组。\n",
    "int[] nums = {1,2,3};\n",
    "Solution solution = new Solution(nums);\n",
    "\n",
    "// 打乱数组 [1,2,3] 并返回结果。任何 [1,2,3]的排列返回的概率应该相同。\n",
    "solution.shuffle();\n",
    "\n",
    "// 重设数组到它的初始状态[1,2,3]。\n",
    "solution.reset();\n",
    "\n",
    "// 随机返回数组[1,2,3]打乱后的结果。\n",
    "solution.shuffle();\n",
    "```"
   ]
  },
  {
   "cell_type": "code",
   "execution_count": 4,
   "metadata": {},
   "outputs": [],
   "source": [
    "import random\n",
    "class Solution1:\n",
    "\n",
    "    def __init__(self, nums):\n",
    "        self.nums = nums\n",
    "\n",
    "    def reset(self):\n",
    "        \"\"\"\n",
    "        Resets the array to its original configuration and return it.\n",
    "        \"\"\"\n",
    "        return self.nums\n",
    "\n",
    "    def shuffle(self):\n",
    "        \"\"\"\n",
    "        Returns a random shuffling of the array.\n",
    "        \"\"\"\n",
    "        shuffle_nums = self.nums[:]\n",
    "        random.shuffle(shuffle_nums)\n",
    "        return shuffle_nums"
   ]
  },
  {
   "cell_type": "code",
   "execution_count": 6,
   "metadata": {},
   "outputs": [
    {
     "name": "stdout",
     "output_type": "stream",
     "text": [
      "[1, 2, 3]\n",
      "[3, 2, 1]\n"
     ]
    }
   ],
   "source": [
    "obj = Solution1([1,2,3])\n",
    "print(obj.reset())\n",
    "print(obj.shuffle())"
   ]
  },
  {
   "cell_type": "markdown",
   "metadata": {},
   "source": [
    "这样做有点赖皮"
   ]
  },
  {
   "cell_type": "code",
   "execution_count": 7,
   "metadata": {},
   "outputs": [],
   "source": [
    "class Solution2:\n",
    "\n",
    "    def __init__(self, nums):\n",
    "        self.nums = nums\n",
    "\n",
    "    def reset(self):\n",
    "        \"\"\"\n",
    "        Resets the array to its original configuration and return it.\n",
    "        \"\"\"\n",
    "        return self.nums\n",
    "\n",
    "    def shuffle(self):\n",
    "        \"\"\"\n",
    "        Returns a random shuffling of the array.\n",
    "        \"\"\"\n",
    "        shuffle_nums = []\n",
    "        self.__random(0, len(self.nums)-1,shuffle_nums)\n",
    "        return shuffle_nums\n",
    "        \n",
    "    def __random(self, start, end, nums):\n",
    "        if start > end:\n",
    "            return\n",
    "        if start == end:\n",
    "            nums.append(self.nums[start])\n",
    "            return\n",
    "        num = random.randint(start, end)\n",
    "        nums.append(self.nums[num])\n",
    "        self.__random(start, num - 1, nums)\n",
    "        self.__random(num + 1, end, nums)"
   ]
  },
  {
   "cell_type": "code",
   "execution_count": 8,
   "metadata": {},
   "outputs": [
    {
     "name": "stdout",
     "output_type": "stream",
     "text": [
      "[1, 2, 3]\n",
      "[3, 2, 1]\n"
     ]
    }
   ],
   "source": [
    "obj = Solution2([1,2,3])\n",
    "print(obj.reset())\n",
    "print(obj.shuffle())"
   ]
  }
 ],
 "metadata": {
  "kernelspec": {
   "display_name": "Python 3",
   "language": "python",
   "name": "python3"
  },
  "language_info": {
   "codemirror_mode": {
    "name": "ipython",
    "version": 3
   },
   "file_extension": ".py",
   "mimetype": "text/x-python",
   "name": "python",
   "nbconvert_exporter": "python",
   "pygments_lexer": "ipython3",
   "version": "3.7.1"
  }
 },
 "nbformat": 4,
 "nbformat_minor": 2
}
