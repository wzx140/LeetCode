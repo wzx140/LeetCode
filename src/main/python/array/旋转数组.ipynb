{
 "cells": [
  {
   "cell_type": "markdown",
   "metadata": {},
   "source": [
    "# 旋转数组\n",
    "给定一个数组，将数组中的元素向右移动 k 个位置，其中 k 是非负数。\n",
    "- 要求使用空间复杂度为 O(1) 的原地算法"
   ]
  },
  {
   "cell_type": "code",
   "execution_count": 9,
   "metadata": {},
   "outputs": [],
   "source": [
    "class Solution1:\n",
    "    def rotate(self, nums, k):\n",
    "        \"\"\"\n",
    "        :type nums: List[int]\n",
    "        :type k: int\n",
    "        :rtype: void Do not return anything, modify nums in-place instead.\n",
    "        \"\"\"\n",
    "        if len(nums) < 2 or k < 1 or k % len(nums) == 0:\n",
    "            return\n",
    "        \n",
    "        for i in range(k):\n",
    "            temp = nums[0]\n",
    "            nums[0] = nums[-1]\n",
    "            for j in range(1, len(nums)):\n",
    "                nums[j], temp = temp, nums[j]"
   ]
  },
  {
   "cell_type": "code",
   "execution_count": 10,
   "metadata": {},
   "outputs": [
    {
     "name": "stdout",
     "output_type": "stream",
     "text": [
      "[3, 99, -1, -100]\n"
     ]
    }
   ],
   "source": [
    "solution1 = Solution1()\n",
    "a = [-1,-100,3,99]\n",
    "solution1.rotate(a,k=2)\n",
    "print(a)"
   ]
  },
  {
   "cell_type": "markdown",
   "metadata": {},
   "source": [
    "暴力运算，简单粗暴，但**运算时间较长**，LeetCode上已经超时了"
   ]
  },
  {
   "cell_type": "code",
   "execution_count": 16,
   "metadata": {},
   "outputs": [],
   "source": [
    "class Solution2:\n",
    "    def rotate(self, nums, k):\n",
    "        \"\"\"\n",
    "        :type nums: List[int]\n",
    "        :type k: int\n",
    "        :rtype: void Do not return anything, modify nums in-place instead.\n",
    "        \"\"\"\n",
    "        if len(nums) < 2 or k < 1 or k % len(nums) == 0:\n",
    "            return\n",
    "        k %= len(nums)\n",
    "        self.reverse(nums, 0, len(nums) - 1 - k)\n",
    "        self.reverse(nums, len(nums) - k, len(nums) - 1)\n",
    "        self.reverse(nums, 0, len(nums) - 1)\n",
    "    \n",
    "    def reverse(self, nums, start_index: int, end_index: int):\n",
    "        \"\"\"\n",
    "        对nums中指定位置翻转，闭区间\n",
    "        :param nums:\n",
    "        :param start_index:\n",
    "        :param end_index:\n",
    "        :return:\n",
    "        \"\"\"\n",
    "        length = end_index - start_index + 1\n",
    "        for i in range(length // 2):\n",
    "            nums[i + start_index], nums[end_index - i] = nums[end_index - i], nums[start_index + i]"
   ]
  },
  {
   "cell_type": "code",
   "execution_count": 17,
   "metadata": {},
   "outputs": [
    {
     "name": "stdout",
     "output_type": "stream",
     "text": [
      "[3, 99, -1, -100]\n"
     ]
    }
   ],
   "source": [
    "solution2 = Solution2()\n",
    "a = [-1,-100,3,99]\n",
    "solution2.rotate(a,k=2)\n",
    "print(a)"
   ]
  },
  {
   "cell_type": "markdown",
   "metadata": {},
   "source": [
    "如果 `n = 6 , k = 2`，给定数组 `[1,2,3,4,5,6]` ，向右旋转后的结果为 `[5,6,1,2,3,4]`\n",
    "把原数组划分为两个部分来看：前 `n - k` 个元素 `[1,2,3,4]`和后 `k` 个元素 `[5,6]`，进行分开处理\n",
    "\n",
    "- 对前 `n - k` 个元素 `[1,2,3,4]` 进行逆转后得到 `[4,3,2,1]`\n",
    "- 对后 `k` 个元素 `[5,6]` 进行逆转后得到 `[6,5]`\n",
    "- 将前后元素 `[4,3,2,1,6,5]` 逆转得到：`[5,6,1,2,3,4]`\n",
    "\n",
    "**注意：还要处理 k > 数组长度的情况，对 k 进行取模**\n",
    "### 参考\n",
    "[1]石先. [189.旋转数组（Rotate Array)](https://www.jianshu.com/p/fbbe671331cf). 简书, 2018.\n"
   ]
  }
 ],
 "metadata": {
  "kernelspec": {
   "display_name": "Python 3",
   "language": "python",
   "name": "python3"
  },
  "language_info": {
   "codemirror_mode": {
    "name": "ipython",
    "version": 3
   },
   "file_extension": ".py",
   "mimetype": "text/x-python",
   "name": "python",
   "nbconvert_exporter": "python",
   "pygments_lexer": "ipython3",
   "version": "3.7.1"
  }
 },
 "nbformat": 4,
 "nbformat_minor": 2
}
