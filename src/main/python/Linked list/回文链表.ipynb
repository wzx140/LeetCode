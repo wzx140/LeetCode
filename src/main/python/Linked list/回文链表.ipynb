{
 "cells": [
  {
   "cell_type": "markdown",
   "metadata": {},
   "source": [
    "# 回文链表\n",
    "请判断一个链表是否为回文链表。\n",
    "\n",
    "**进阶**：\n",
    "\n",
    "你能否用 O(n) 时间复杂度和 O(1) 空间复杂度解决此题？"
   ]
  },
  {
   "cell_type": "code",
   "execution_count": 2,
   "metadata": {},
   "outputs": [
    {
     "name": "stdout",
     "output_type": "stream",
     "text": [
      "1\n",
      "2\n",
      "1\n"
     ]
    }
   ],
   "source": [
    "# Definition for singly-linked list.\n",
    "class ListNode:\n",
    "    def __init__(self, x):\n",
    "        self.val = x\n",
    "        self.next = None\n",
    "        \n",
    "node1 = ListNode(1)\n",
    "node2 = ListNode(2)\n",
    "node3 = ListNode(1)\n",
    "\n",
    "node1.next = node2\n",
    "node2.next = node3\n",
    "\n",
    "head = node1\n",
    "while head != None:\n",
    "    print(head.val)\n",
    "    head = head.next"
   ]
  },
  {
   "cell_type": "code",
   "execution_count": 3,
   "metadata": {},
   "outputs": [],
   "source": [
    "class Solution1:\n",
    "    def isPalindrome(self, head: ListNode) -> bool:\n",
    "        if head is None or head.next is None:\n",
    "            return True\n",
    "        node_list = []\n",
    "        while head is not None:\n",
    "            node_list.append(head.val)\n",
    "            head = head.next\n",
    "        length = len(node_list)\n",
    "        for i in range(length//2):\n",
    "            if node_list[i] != node_list[length-i-1]:\n",
    "                return False\n",
    "        return True"
   ]
  },
  {
   "cell_type": "code",
   "execution_count": 5,
   "metadata": {},
   "outputs": [
    {
     "name": "stdout",
     "output_type": "stream",
     "text": [
      "True\n"
     ]
    }
   ],
   "source": [
    "solution1 = Solution1()\n",
    "print(solution1.isPalindrome(head))"
   ]
  },
  {
   "cell_type": "code",
   "execution_count": 9,
   "metadata": {},
   "outputs": [],
   "source": [
    "class Solution2:\n",
    "    def isPalindrome(self, head: ListNode) -> bool:\n",
    "        stack = []\n",
    "        cur = head\n",
    "        while cur is not None:\n",
    "            stack.append(cur.val)\n",
    "            cur = cur.next\n",
    "        while stack:\n",
    "            if head.val != stack.pop():\n",
    "                return False\n",
    "            head = head.next\n",
    "        return True"
   ]
  },
  {
   "cell_type": "code",
   "execution_count": 10,
   "metadata": {},
   "outputs": [
    {
     "name": "stdout",
     "output_type": "stream",
     "text": [
      "True\n"
     ]
    }
   ],
   "source": [
    "solution2 = Solution2()\n",
    "print(solution2.isPalindrome(head))"
   ]
  },
  {
   "cell_type": "code",
   "execution_count": 11,
   "metadata": {},
   "outputs": [],
   "source": [
    "class Solution3:\n",
    "    def isPalindrome(self, head: ListNode) -> bool:\n",
    "        if head is None:\n",
    "            return True\n",
    "        slow = head\n",
    "        fast = head\n",
    "        while fast.next is not None and fast.next.next is not None:\n",
    "            slow = slow.next\n",
    "            fast = fast.next.next\n",
    "        cur = slow.next\n",
    "\n",
    "        pre_node = None\n",
    "        while cur:\n",
    "            temp = cur.next\n",
    "            cur.next = pre_node\n",
    "            pre_node = cur\n",
    "            cur = temp\n",
    "            \n",
    "        while pre_node:\n",
    "            if pre_node.val != head.val:\n",
    "                return False\n",
    "            pre_node = pre_node.next\n",
    "            head = head.next\n",
    "        return True\n",
    "        "
   ]
  },
  {
   "cell_type": "code",
   "execution_count": 12,
   "metadata": {},
   "outputs": [
    {
     "name": "stdout",
     "output_type": "stream",
     "text": [
      "True\n"
     ]
    }
   ],
   "source": [
    "solution3 = Solution3()\n",
    "print(solution3.isPalindrome(head))"
   ]
  }
 ],
 "metadata": {
  "kernelspec": {
   "display_name": "Python 3",
   "language": "python",
   "name": "python3"
  },
  "language_info": {
   "codemirror_mode": {
    "name": "ipython",
    "version": 3
   },
   "file_extension": ".py",
   "mimetype": "text/x-python",
   "name": "python",
   "nbconvert_exporter": "python",
   "pygments_lexer": "ipython3",
   "version": "3.7.1"
  }
 },
 "nbformat": 4,
 "nbformat_minor": 2
}
