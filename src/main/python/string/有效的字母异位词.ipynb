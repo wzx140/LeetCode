{
 "cells": [
  {
   "cell_type": "markdown",
   "metadata": {},
   "source": [
    "# 有效的字母异位词\n",
    "给定两个字符串 s 和 t ，编写一个函数来判断 t 是否是 s 的一个字母异位词\n",
    "\n",
    "示例 1：\n",
    "```\n",
    "输入: s = \"anagram\", t = \"nagaram\"\n",
    "输出: true\n",
    "```\n",
    "示例 2：\n",
    "```\n",
    "输入: s = \"rat\", t = \"car\"\n",
    "输出: false\n",
    "```"
   ]
  },
  {
   "cell_type": "code",
   "execution_count": 1,
   "metadata": {},
   "outputs": [],
   "source": [
    "class Solution1:\n",
    "    def isAnagram(self, s: 'str', t: 'str') -> 'bool':\n",
    "        if len(s) != len(t):\n",
    "            return False\n",
    "        s_dict = {}\n",
    "        t_dict = {}\n",
    "        for item in s:\n",
    "            s_dict[item] = s_dict.get(item, 0) + 1\n",
    "        for item in t:\n",
    "            t_dict[item] = t_dict.get(item, 0) + 1\n",
    "        for key in s_dict.keys():\n",
    "            if key not in t_dict or s_dict[key] != t_dict[key]:\n",
    "                return False\n",
    "        return True"
   ]
  },
  {
   "cell_type": "code",
   "execution_count": 3,
   "metadata": {},
   "outputs": [
    {
     "name": "stdout",
     "output_type": "stream",
     "text": [
      "True\n"
     ]
    }
   ],
   "source": [
    "solution1 = Solution1()\n",
    "print(solution1.isAnagram(s = \"anagram\", t = \"nagaram\"))"
   ]
  },
  {
   "cell_type": "markdown",
   "metadata": {},
   "source": [
    "利用字典哈希表储存字母个数进行比较"
   ]
  },
  {
   "cell_type": "code",
   "execution_count": 4,
   "metadata": {},
   "outputs": [],
   "source": [
    "class Solution2:\n",
    "    def isAnagram(self, s: 'str', t: 'str') -> 'bool':\n",
    "        s_dict = [0] * 26\n",
    "        t_dict = [0] * 26\n",
    "        for i in range(len(s)):\n",
    "            s_dict[ord(s[i]) - 97] += 1\n",
    "        for i in range(len(t)):\n",
    "            t_dict[ord(t[i]) - 97] += 1\n",
    "        for i in range(26):\n",
    "            if s_dict[i] != t_dict[i]:\n",
    "                return False\n",
    "        return True"
   ]
  },
  {
   "cell_type": "code",
   "execution_count": 5,
   "metadata": {},
   "outputs": [
    {
     "name": "stdout",
     "output_type": "stream",
     "text": [
      "True\n"
     ]
    }
   ],
   "source": [
    "solution2 = Solution2()\n",
    "print(solution2.isAnagram(s = \"anagram\", t = \"nagaram\"))"
   ]
  },
  {
   "cell_type": "markdown",
   "metadata": {},
   "source": [
    "利用数组储存字母个数进行比较"
   ]
  }
 ],
 "metadata": {
  "kernelspec": {
   "display_name": "Python 3",
   "language": "python",
   "name": "python3"
  },
  "language_info": {
   "codemirror_mode": {
    "name": "ipython",
    "version": 3
   },
   "file_extension": ".py",
   "mimetype": "text/x-python",
   "name": "python",
   "nbconvert_exporter": "python",
   "pygments_lexer": "ipython3",
   "version": "3.7.1"
  }
 },
 "nbformat": 4,
 "nbformat_minor": 2
}
