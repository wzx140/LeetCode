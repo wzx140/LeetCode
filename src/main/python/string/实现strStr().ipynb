{
 "cells": [
  {
   "cell_type": "markdown",
   "metadata": {},
   "source": [
    "# 实现strStr()\n",
    "实现 [strStr()](https://baike.baidu.com/item/strstr/811469) 函数。\n",
    "\n",
    "给定一个 haystack 字符串和一个 needle 字符串，在 haystack 字符串中找出 needle 字符串出现的第一个位置 (从0开始)。如果不存在，则返回  -1。"
   ]
  },
  {
   "cell_type": "code",
   "execution_count": 1,
   "metadata": {},
   "outputs": [],
   "source": [
    "class Solution1:\n",
    "    def strStr(self, haystack: str, needle: str) -> int:\n",
    "        if needle == '':\n",
    "            return 0\n",
    "        if haystack == '':\n",
    "            return -1\n",
    "        for i in range(len(haystack)-len(needle)+1):\n",
    "            if haystack[i:i+len(needle)] == needle:\n",
    "                return i\n",
    "        return -1"
   ]
  },
  {
   "cell_type": "code",
   "execution_count": 2,
   "metadata": {},
   "outputs": [
    {
     "name": "stdout",
     "output_type": "stream",
     "text": [
      "2\n"
     ]
    }
   ],
   "source": [
    "solution1 = Solution1()\n",
    "print(solution1.strStr(\"hello\",\"ll\"))"
   ]
  },
  {
   "cell_type": "markdown",
   "metadata": {},
   "source": [
    "暴力法"
   ]
  },
  {
   "cell_type": "code",
   "execution_count": 1,
   "metadata": {},
   "outputs": [],
   "source": [
    "class Solution2:\n",
    "    def strStr(self, haystack: str, needle: str) -> int:\n",
    "        if needle == '':\n",
    "            return 0\n",
    "        if haystack == '':\n",
    "            return -1\n",
    "        next_list = self.next_(needle)\n",
    "        i = 0\n",
    "        j = 0\n",
    "        while i < len(haystack) and j < len(needle):\n",
    "            if j == -1 or haystack[i] == needle[j]:\n",
    "                i += 1\n",
    "                j += 1          \n",
    "            else:\n",
    "                j = next_list[j]\n",
    "        return i - j if j == len(needle) else -1\n",
    "    \n",
    "    def next_(self, s: str):\n",
    "        next_list = [-1] * len(s)\n",
    "\n",
    "        index_prefix = -1\n",
    "        index_suffix = 0\n",
    "\n",
    "        while index_suffix < len(s) - 1:\n",
    "            if index_prefix == -1 or s[index_prefix] == s[index_suffix]:\n",
    "                index_prefix += 1\n",
    "                index_suffix += 1\n",
    "                next_list[index_suffix] = index_prefix\n",
    "            else:\n",
    "                index_prefix = next_list[index_prefix]\n",
    "\n",
    "        return next_list"
   ]
  },
  {
   "cell_type": "code",
   "execution_count": 2,
   "metadata": {},
   "outputs": [
    {
     "name": "stdout",
     "output_type": "stream",
     "text": [
      "2\n"
     ]
    }
   ],
   "source": [
    "solution2 = Solution2()\n",
    "print(solution2.strStr(\"hello\",\"ll\"))"
   ]
  },
  {
   "cell_type": "markdown",
   "metadata": {},
   "source": [
    "[KMP算法](https://blog.csdn.net/v_july_v/article/details/7041827)"
   ]
  }
 ],
 "metadata": {
  "kernelspec": {
   "display_name": "Python 3",
   "language": "python",
   "name": "python3"
  },
  "language_info": {
   "codemirror_mode": {
    "name": "ipython",
    "version": 3
   },
   "file_extension": ".py",
   "mimetype": "text/x-python",
   "name": "python",
   "nbconvert_exporter": "python",
   "pygments_lexer": "ipython3",
   "version": "3.7.1"
  }
 },
 "nbformat": 4,
 "nbformat_minor": 2
}
