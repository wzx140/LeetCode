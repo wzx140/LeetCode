{
 "cells": [
  {
   "cell_type": "markdown",
   "metadata": {},
   "source": [
    "# 验证回文字符串\n",
    "给定一个字符串，验证它是否是回文串，只考虑字母和数字字符，可以忽略字母的大小写。\n",
    "\n",
    "说明：本题中，我们将空字符串定义为有效的回文串。"
   ]
  },
  {
   "cell_type": "code",
   "execution_count": 3,
   "metadata": {},
   "outputs": [],
   "source": [
    "class Solution1:\n",
    "    def isPalindrome(self, s: 'str') -> 'bool':\n",
    "        if s == '':\n",
    "            return True\n",
    "        s = s.lower()\n",
    "        index_reverse = len(s) - 1\n",
    "        index = 0\n",
    "        while index_reverse > index:\n",
    "            while not s[index_reverse].isalpha() and not s[index_reverse].isnumeric():\n",
    "                if index_reverse <= index:\n",
    "                    return True\n",
    "                index_reverse -= 1\n",
    "\n",
    "            while not s[index].isalpha() and not s[index].isnumeric():\n",
    "                if index_reverse <= index:\n",
    "                    return True\n",
    "                index += 1\n",
    "\n",
    "            if s[index] != s[index_reverse]:\n",
    "                return False\n",
    "            else:\n",
    "                index_reverse -= 1\n",
    "                index += 1\n",
    "        return True"
   ]
  },
  {
   "cell_type": "code",
   "execution_count": 4,
   "metadata": {},
   "outputs": [
    {
     "name": "stdout",
     "output_type": "stream",
     "text": [
      "False\n"
     ]
    }
   ],
   "source": [
    "solution1 = Solution1()\n",
    "print(solution1.isPalindrome(\"race a car\"))"
   ]
  },
  {
   "cell_type": "markdown",
   "metadata": {},
   "source": [
    "先全部小写，再依次比较首尾字符，若不是数字或者字母就跳过\n",
    "\n",
    "注：判断是否小写字母和数字，可以通过ascii比较，如果你使用的语言中没有提供直接判断的函数的话"
   ]
  },
  {
   "cell_type": "code",
   "execution_count": 5,
   "metadata": {},
   "outputs": [],
   "source": [
    "class Solution2:\n",
    "    def isPalindrome(self, s: 'str') -> 'bool':\n",
    "        if s == '':\n",
    "            return True\n",
    "        index_reverse = len(s) - 1\n",
    "        index = 0\n",
    "        while index_reverse > index:\n",
    "            while not s[index_reverse].isalpha() and not s[index_reverse].isnumeric():\n",
    "                if index_reverse <= index:\n",
    "                    return True\n",
    "                index_reverse -= 1\n",
    "\n",
    "            while not s[index].isalpha() and not s[index].isnumeric():\n",
    "                if index_reverse <= index:\n",
    "                    return True\n",
    "                index += 1\n",
    "\n",
    "            if s[index].lower() != s[index_reverse].lower():\n",
    "                return False\n",
    "            else:\n",
    "                index_reverse -= 1\n",
    "                index += 1\n",
    "        return True"
   ]
  },
  {
   "cell_type": "code",
   "execution_count": 6,
   "metadata": {},
   "outputs": [
    {
     "name": "stdout",
     "output_type": "stream",
     "text": [
      "False\n"
     ]
    }
   ],
   "source": [
    "solution2 = Solution2()\n",
    "print(solution1.isPalindrome(\"race a car\"))"
   ]
  },
  {
   "cell_type": "markdown",
   "metadata": {},
   "source": [
    "在循环过程中，先判断是不是小写字母和数字，再判断首尾的相等"
   ]
  }
 ],
 "metadata": {
  "kernelspec": {
   "display_name": "Python 3",
   "language": "python",
   "name": "python3"
  },
  "language_info": {
   "codemirror_mode": {
    "name": "ipython",
    "version": 3
   },
   "file_extension": ".py",
   "mimetype": "text/x-python",
   "name": "python",
   "nbconvert_exporter": "python",
   "pygments_lexer": "ipython3",
   "version": "3.7.1"
  }
 },
 "nbformat": 4,
 "nbformat_minor": 2
}
