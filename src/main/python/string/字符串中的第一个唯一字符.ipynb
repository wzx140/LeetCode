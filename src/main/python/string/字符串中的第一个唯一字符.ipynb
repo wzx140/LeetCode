{
 "cells": [
  {
   "cell_type": "markdown",
   "metadata": {},
   "source": [
    "# 字符串中的第一个唯一字符\n",
    "给定一个字符串，找到它的第一个不重复的字符，并返回它的索引。如果不存在，则返回 -1。\n",
    "\n",
    "**注意事项**：您可以假定该字符串只包含小写字母。"
   ]
  },
  {
   "cell_type": "code",
   "execution_count": 1,
   "metadata": {},
   "outputs": [],
   "source": [
    "class Solution1:\n",
    "    def firstUniqChar(self, s: 'str') -> 'int':\n",
    "        length = len(s)\n",
    "        for i in range(length):\n",
    "            flag = 0\n",
    "            for j in range(length):\n",
    "                if i!=j and s[i] == s[j]:\n",
    "                    break\n",
    "                elif i!=j and s[i] != s[j]:\n",
    "                    flag += 1\n",
    "            if flag == length - 1:\n",
    "                return i\n",
    "        return -1"
   ]
  },
  {
   "cell_type": "code",
   "execution_count": 2,
   "metadata": {},
   "outputs": [
    {
     "name": "stdout",
     "output_type": "stream",
     "text": [
      "2\n"
     ]
    }
   ],
   "source": [
    "solution1 = Solution1()\n",
    "print(solution1.firstUniqChar(\"loveleetcode\"))"
   ]
  },
  {
   "cell_type": "markdown",
   "metadata": {},
   "source": [
    "这是最朴素简单的想法"
   ]
  },
  {
   "cell_type": "code",
   "execution_count": 3,
   "metadata": {},
   "outputs": [],
   "source": [
    "class Solution2:\n",
    "    def firstUniqChar(self, s: 'str') -> 'int':\n",
    "        str_dict = {}\n",
    "        for i in range(len(s)):\n",
    "            str_dict[s[i]] = str_dict.get(s[i], 0) + 1\n",
    "        for i in range(len(s)):\n",
    "            if str_dict[s[i]] == 1:\n",
    "                return i\n",
    "        return -1"
   ]
  },
  {
   "cell_type": "code",
   "execution_count": 4,
   "metadata": {},
   "outputs": [
    {
     "name": "stdout",
     "output_type": "stream",
     "text": [
      "2\n"
     ]
    }
   ],
   "source": [
    "solution2 = Solution2()\n",
    "print(solution2.firstUniqChar(\"loveleetcode\"))"
   ]
  },
  {
   "cell_type": "markdown",
   "metadata": {},
   "source": [
    "利用哈希表，两次循环完成"
   ]
  },
  {
   "cell_type": "code",
   "execution_count": 6,
   "metadata": {},
   "outputs": [],
   "source": [
    "class Solution3:\n",
    "    def firstUniqChar(self, s: 'str') -> 'int':\n",
    "        str_dict = [0] * 26\n",
    "        for i in range(len(s)):\n",
    "            str_dict[ord(s[i]) - 97] += 1\n",
    "        for i in range(len(s)):\n",
    "            if str_dict[ord(s[i]) - 97] == 1:\n",
    "                return i\n",
    "        return -1"
   ]
  },
  {
   "cell_type": "code",
   "execution_count": 7,
   "metadata": {},
   "outputs": [
    {
     "name": "stdout",
     "output_type": "stream",
     "text": [
      "2\n"
     ]
    }
   ],
   "source": [
    "solution3 = Solution3()\n",
    "print(solution3.firstUniqChar(\"loveleetcode\"))"
   ]
  },
  {
   "cell_type": "markdown",
   "metadata": {},
   "source": [
    "利用数组，两次循环完成"
   ]
  }
 ],
 "metadata": {
  "kernelspec": {
   "display_name": "Python 3",
   "language": "python",
   "name": "python3"
  },
  "language_info": {
   "codemirror_mode": {
    "name": "ipython",
    "version": 3
   },
   "file_extension": ".py",
   "mimetype": "text/x-python",
   "name": "python",
   "nbconvert_exporter": "python",
   "pygments_lexer": "ipython3",
   "version": "3.7.1"
  }
 },
 "nbformat": 4,
 "nbformat_minor": 2
}
