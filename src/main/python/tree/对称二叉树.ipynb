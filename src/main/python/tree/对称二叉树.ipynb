{
 "cells": [
  {
   "cell_type": "markdown",
   "metadata": {},
   "source": [
    "# 对称二叉树\n",
    "给定一个二叉树，检查它是否是镜像对称的。"
   ]
  },
  {
   "cell_type": "code",
   "execution_count": 1,
   "metadata": {},
   "outputs": [],
   "source": [
    "# Definition for a binary tree node.\n",
    "class TreeNode(object):\n",
    "    def __init__(self, x):\n",
    "        self.val = x\n",
    "        self.left = None\n",
    "        self.right = None\n",
    "treeNode1 = TreeNode(1)\n",
    "treeNode2 = TreeNode(2)\n",
    "treeNode3 = TreeNode(3)\n",
    "treeNode4 = TreeNode(2)\n",
    "treeNode5 = TreeNode(3)\n",
    "treeNode1.left =treeNode2\n",
    "treeNode1.right = treeNode4\n",
    "treeNode2.right = treeNode3\n",
    "treeNode4.right = treeNode5\n",
    "root = treeNode1"
   ]
  },
  {
   "cell_type": "markdown",
   "metadata": {},
   "source": [
    "```\n",
    "    1\n",
    "   / \\\n",
    "  2   2\n",
    "   \\   \\\n",
    "   3    3\n",
    "```"
   ]
  },
  {
   "cell_type": "code",
   "execution_count": 2,
   "metadata": {},
   "outputs": [],
   "source": [
    "class Solution1(object):\n",
    "    def isSymmetric(self, root):\n",
    "        \"\"\"\n",
    "        :type root: TreeNode\n",
    "        :rtype: bool\n",
    "        \"\"\"\n",
    "        if root is None:\n",
    "            return True\n",
    "        return self.symmetric(root.left, root.right)\n",
    "    \n",
    "    def symmetric(self, node1, node2):\n",
    "        if node1 is None and node2 is None:\n",
    "            return True\n",
    "        elif node1 is None or node2 is None:\n",
    "            return False\n",
    "        elif node1.val != node2.val:\n",
    "            return False\n",
    "        else:\n",
    "            return node1.val==node2.val and self.symmetric(node1.left, node2.right) and self.symmetric(node1.right, node2.left)"
   ]
  },
  {
   "cell_type": "code",
   "execution_count": 3,
   "metadata": {},
   "outputs": [
    {
     "name": "stdout",
     "output_type": "stream",
     "text": [
      "False\n"
     ]
    }
   ],
   "source": [
    "solution1 = Solution1()\n",
    "print(solution1.isSymmetric(root))"
   ]
  },
  {
   "cell_type": "markdown",
   "metadata": {},
   "source": [
    "递归法"
   ]
  },
  {
   "cell_type": "code",
   "execution_count": 4,
   "metadata": {},
   "outputs": [],
   "source": [
    "class Solution2(object):\n",
    "    def isSymmetric(self, root):\n",
    "        \"\"\"\n",
    "        :type root: TreeNode\n",
    "        :rtype: bool\n",
    "        \"\"\"\n",
    "        if root is None:\n",
    "            return True\n",
    "        stack = []\n",
    "        stack.append(root.left)\n",
    "        stack.append(root.right)\n",
    "        \n",
    "        while stack:\n",
    "            node1 = stack.pop()\n",
    "            node2 = stack.pop()\n",
    "            if node1 is None and node2 is None:\n",
    "                pass\n",
    "            elif node1 is None or node2 is None:\n",
    "                return False\n",
    "            elif node1.val != node2.val:\n",
    "                return False\n",
    "            else:\n",
    "                stack.append(node1.left)\n",
    "                stack.append(node2.right)\n",
    "                stack.append(node1.right)\n",
    "                stack.append(node2.left)\n",
    "        return True"
   ]
  },
  {
   "cell_type": "code",
   "execution_count": 5,
   "metadata": {},
   "outputs": [
    {
     "name": "stdout",
     "output_type": "stream",
     "text": [
      "False\n"
     ]
    }
   ],
   "source": [
    "solution2 = Solution2()\n",
    "print(solution2.isSymmetric(root))"
   ]
  },
  {
   "cell_type": "markdown",
   "metadata": {},
   "source": [
    "迭代法"
   ]
  }
 ],
 "metadata": {
  "kernelspec": {
   "display_name": "Python 3",
   "language": "python",
   "name": "python3"
  },
  "language_info": {
   "codemirror_mode": {
    "name": "ipython",
    "version": 3
   },
   "file_extension": ".py",
   "mimetype": "text/x-python",
   "name": "python",
   "nbconvert_exporter": "python",
   "pygments_lexer": "ipython3",
   "version": "3.7.1"
  }
 },
 "nbformat": 4,
 "nbformat_minor": 2
}
