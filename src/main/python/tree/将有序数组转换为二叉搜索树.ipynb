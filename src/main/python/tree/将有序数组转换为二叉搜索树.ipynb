{
 "cells": [
  {
   "cell_type": "markdown",
   "metadata": {},
   "source": [
    "# 将有序数组转换为二叉搜索树\n",
    "将一个按照升序排列的有序数组，转换为一棵高度平衡二叉搜索树。\n",
    "\n",
    "本题中，一个高度平衡二叉树是指一个二叉树每个节点 的左右两个子树的高度差的绝对值不超过 1。\n",
    "\n",
    "示例:\n",
    "```\n",
    "给定有序数组: [-10,-3,0,5,9],\n",
    "\n",
    "一个可能的答案是：[0,-3,9,-10,null,5]，它可以表示下面这个高度平衡二叉搜索树：\n",
    "\n",
    "      0\n",
    "     / \\\n",
    "   -3   9\n",
    "   /   /\n",
    " -10  5\n",
    " ```"
   ]
  },
  {
   "cell_type": "code",
   "execution_count": 3,
   "metadata": {},
   "outputs": [],
   "source": [
    "# Definition for a binary tree node.\n",
    "class TreeNode:\n",
    "    def __init__(self, x):\n",
    "        self.val = x\n",
    "        self.left = None\n",
    "        self.right = None"
   ]
  },
  {
   "cell_type": "code",
   "execution_count": 5,
   "metadata": {},
   "outputs": [],
   "source": [
    "class Solution:\n",
    "    def sortedArrayToBST(self, nums) -> TreeNode:\n",
    "        if not nums:\n",
    "            return []\n",
    "        self.nums = nums\n",
    "        return self.build(0, len(nums)-1)\n",
    "    \n",
    "    def build(self, start, end):\n",
    "        if start > end:\n",
    "            return None\n",
    "        middle = (start + end)//2\n",
    "        node = TreeNode(self.nums[middle])\n",
    "        node.left = self.build(start, middle-1)\n",
    "        node.right = self.build(middle+1, end)\n",
    "        return node"
   ]
  },
  {
   "cell_type": "code",
   "execution_count": 8,
   "metadata": {},
   "outputs": [
    {
     "data": {
      "text/plain": [
       "<__main__.TreeNode at 0x7fee0274a860>"
      ]
     },
     "execution_count": 8,
     "metadata": {},
     "output_type": "execute_result"
    }
   ],
   "source": [
    "solution = Solution()\n",
    "solution.sortedArrayToBST([-10,-3,0,5,9])"
   ]
  },
  {
   "cell_type": "markdown",
   "metadata": {},
   "source": [
    "二叉树的建立过程就是不断取中间值，然后将数组再一拆为二，然后左边部分找左子节点，右边部分找右子节点，循此往复就可建立完成"
   ]
  }
 ],
 "metadata": {
  "kernelspec": {
   "display_name": "Python 3",
   "language": "python",
   "name": "python3"
  },
  "language_info": {
   "codemirror_mode": {
    "name": "ipython",
    "version": 3
   },
   "file_extension": ".py",
   "mimetype": "text/x-python",
   "name": "python",
   "nbconvert_exporter": "python",
   "pygments_lexer": "ipython3",
   "version": "3.7.1"
  }
 },
 "nbformat": 4,
 "nbformat_minor": 2
}
